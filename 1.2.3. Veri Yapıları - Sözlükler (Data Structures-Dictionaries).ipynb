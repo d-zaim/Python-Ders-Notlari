{
 "cells": [
  {
   "cell_type": "markdown",
   "metadata": {},
   "source": [
    "# Veri Yapıları\n",
    "\n",
    "## 1. Lists (Listeler) [...]\n",
    "\n",
    "## 2. Tuples (...)\n",
    "\n",
    "## 3. Dictionaries (Sözlükler) {kelime: anlam}\n",
    "\n",
    "\n",
    "## 4. Sets (Kümeler) Unique  / Eşsiz (tekrarsız) {...}"
   ]
  },
  {
   "cell_type": "markdown",
   "metadata": {},
   "source": [
    "## 3. Dictionaries\n",
    "\n",
    "sozluk = {kelime1: anlam1,\n",
    "          kelime2: anlam2} \n",
    "\n",
    "şeklinde oluşturuluyor. ( {key: value} )"
   ]
  },
  {
   "cell_type": "markdown",
   "metadata": {},
   "source": [
    "### 3.1. Giriş"
   ]
  },
  {
   "cell_type": "code",
   "execution_count": 8,
   "metadata": {},
   "outputs": [
    {
     "data": {
      "text/plain": [
       "{'Türkiye': 'İstanbul',\n",
       " 'Fransa': 'Paris',\n",
       " 'Almanya': 'Berlin',\n",
       " 'İngiltere': 'Londra'}"
      ]
     },
     "execution_count": 8,
     "metadata": {},
     "output_type": "execute_result"
    }
   ],
   "source": [
    "# Dictionary oluşturma\n",
    "# {key:value}\n",
    "\n",
    "baskent = {\"Türkiye\": \"Ankara\",\n",
    "           \"Fransa\": \"Paris\", \n",
    "           \"Almanya\":\"Berlin\",\n",
    "         \"İngiltere\": \"Londra\"\n",
    "        }\n",
    "baskent"
   ]
  },
  {
   "cell_type": "code",
   "execution_count": 6,
   "metadata": {},
   "outputs": [
    {
     "data": {
      "text/plain": [
       "'Ankara'"
      ]
     },
     "execution_count": 6,
     "metadata": {},
     "output_type": "execute_result"
    }
   ],
   "source": [
    "# Dictionary'de bir elemana erişme -> Burada listedeki gibi index kullanmıyoruz.\n",
    "# Key değerini yazmamız lazım:\n",
    "baskent[\"Türkiye\"]"
   ]
  },
  {
   "cell_type": "code",
   "execution_count": 7,
   "metadata": {},
   "outputs": [
    {
     "data": {
      "text/plain": [
       "{'Türkiye': 'Ankara',\n",
       " 'Fransa': 'Paris',\n",
       " 'Almanya': 'Berlin',\n",
       " 'İngiltere': 'Londra',\n",
       " 'Japonya': 'Tokyo'}"
      ]
     },
     "execution_count": 7,
     "metadata": {},
     "output_type": "execute_result"
    }
   ],
   "source": [
    "# Dictionary'e eleman ekleme\n",
    "baskent[\"Japonya\"] = \"Tokyo\"\n",
    "baskent"
   ]
  },
  {
   "cell_type": "code",
   "execution_count": 8,
   "metadata": {},
   "outputs": [
    {
     "data": {
      "text/plain": [
       "{'Türkiye': 'İstanbul',\n",
       " 'Fransa': 'Paris',\n",
       " 'Almanya': 'Berlin',\n",
       " 'İngiltere': 'Londra',\n",
       " 'Japonya': 'Tokyo'}"
      ]
     },
     "execution_count": 8,
     "metadata": {},
     "output_type": "execute_result"
    }
   ],
   "source": [
    "# Value'da değişiklik yapma\n",
    "baskent[\"Türkiye\"] = \"İstanbul\"\n",
    "baskent"
   ]
  },
  {
   "cell_type": "code",
   "execution_count": 9,
   "metadata": {},
   "outputs": [
    {
     "data": {
      "text/plain": [
       "{'Türkiye': 'İstanbul',\n",
       " 'Almanya': 'Berlin',\n",
       " 'İngiltere': 'Londra',\n",
       " 'Japonya': 'Tokyo'}"
      ]
     },
     "execution_count": 9,
     "metadata": {},
     "output_type": "execute_result"
    }
   ],
   "source": [
    "# Eleman silme\n",
    "del baskent[\"Fransa\"]\n",
    "baskent"
   ]
  },
  {
   "cell_type": "code",
   "execution_count": 38,
   "metadata": {
    "scrolled": true
   },
   "outputs": [
    {
     "data": {
      "text/plain": [
       "{'isim': 'Ali',\n",
       " 'soyisim': 'Kara',\n",
       " 'şehir': 'İstanbul',\n",
       " 'işler': ['dönerci', 'tezgahtar', 'mühendis'],\n",
       " 'ulasım': {'toplu_taşıma': 'Otobüs', 'müstakil': 'bisiklet'}}"
      ]
     },
     "execution_count": 38,
     "metadata": {},
     "output_type": "execute_result"
    }
   ],
   "source": [
    "# Dictionary value'ları liste veya dictionary olabilir:\n",
    "\n",
    "# İş başvurusu için bir dictionary oluşturalım\n",
    "basvuru = {}  \n",
    "basvuru[\"isim\"] = \"Ali\"\n",
    "basvuru[\"soyisim\"] = \"Kara\"\n",
    "basvuru[\"şehir\"] = \"İstanbul\"\n",
    "basvuru[\"işler\"] = [\"dönerci\",\"tezgahtar\",\"mühendis\"]\n",
    "basvuru[\"ulasım\"] = {\"toplu_taşıma\":\"Otobüs\",\"müstakil\":\"bisiklet\"}\n",
    "basvuru"
   ]
  },
  {
   "cell_type": "code",
   "execution_count": 31,
   "metadata": {},
   "outputs": [
    {
     "data": {
      "text/plain": [
       "'mühendis'"
      ]
     },
     "execution_count": 31,
     "metadata": {},
     "output_type": "execute_result"
    }
   ],
   "source": [
    "# Sözlükten \"işler\"i çektiğimizde bir liste geliyor. Dolayısıyla liste muamelesi yapabiliriz:\n",
    "basvuru[\"işler\"][-1]"
   ]
  },
  {
   "cell_type": "code",
   "execution_count": 33,
   "metadata": {},
   "outputs": [
    {
     "data": {
      "text/plain": [
       "'bisiklet'"
      ]
     },
     "execution_count": 33,
     "metadata": {},
     "output_type": "execute_result"
    }
   ],
   "source": [
    "# Sözlükten \"ulaşım\"ı çektiğimizde bir sözlük geliyor. Sözlük gibi davranabiliriz:\n",
    "basvuru['ulasım']['müstakil']"
   ]
  },
  {
   "cell_type": "markdown",
   "metadata": {},
   "source": [
    "### 3.2. Dictionary Özellikleri\n",
    "\n",
    "1. Key'ler sadece 1 kez tanımlanmalı. (Sözlükte bir kelime iki kere tanımlanmaz.)\n",
    "2. Key'ler immutable olmalı. (Sözlükteki kelimeye biri müdahale edemez.)\n",
    "3. Value'lar her şey olabilir. (Sözlükte bir kelimenin anlamı değişebilir.)"
   ]
  },
  {
   "cell_type": "code",
   "execution_count": 20,
   "metadata": {},
   "outputs": [
    {
     "ename": "TypeError",
     "evalue": "unhashable type: 'list'",
     "output_type": "error",
     "traceback": [
      "\u001b[1;31m---------------------------------------------------------------------------\u001b[0m",
      "\u001b[1;31mTypeError\u001b[0m                                 Traceback (most recent call last)",
      "\u001b[1;32m<ipython-input-20-f25aeeebd916>\u001b[0m in \u001b[0;36m<module>\u001b[1;34m\u001b[0m\n\u001b[0;32m      1\u001b[0m \u001b[1;31m# Key'ler immutable olmalı:\u001b[0m\u001b[1;33m\u001b[0m\u001b[1;33m\u001b[0m\u001b[1;33m\u001b[0m\u001b[0m\n\u001b[0;32m      2\u001b[0m \u001b[1;33m\u001b[0m\u001b[0m\n\u001b[1;32m----> 3\u001b[1;33m \u001b[0msozluk\u001b[0m \u001b[1;33m=\u001b[0m \u001b[1;33m{\u001b[0m\u001b[1;33m[\u001b[0m\u001b[1;36m0\u001b[0m\u001b[1;33m,\u001b[0m\u001b[1;36m2\u001b[0m\u001b[1;33m,\u001b[0m\u001b[1;36m3\u001b[0m\u001b[1;33m,\u001b[0m\u001b[1;36m4\u001b[0m\u001b[1;33m]\u001b[0m\u001b[1;33m:\u001b[0m \u001b[1;34m\"a\"\u001b[0m\u001b[1;33m}\u001b[0m\u001b[1;33m\u001b[0m\u001b[1;33m\u001b[0m\u001b[0m\n\u001b[0m",
      "\u001b[1;31mTypeError\u001b[0m: unhashable type: 'list'"
     ]
    }
   ],
   "source": [
    "# Key'ler immutable olmalı: (liste veya dictionary olmamalı)\n",
    "\n",
    "sozluk = {[0,2,3,4]: \"a\"}\n"
   ]
  },
  {
   "cell_type": "code",
   "execution_count": 21,
   "metadata": {},
   "outputs": [
    {
     "data": {
      "text/plain": [
       "[26, 30]"
      ]
     },
     "execution_count": 21,
     "metadata": {},
     "output_type": "execute_result"
    }
   ],
   "source": [
    "# Key'ler tuple olabilir:\n",
    "sozluk = {(\"Ali\",\"Ayşe\"):[26,30]}\n",
    "sozluk[(\"Ali\",\"Ayşe\")]"
   ]
  },
  {
   "cell_type": "code",
   "execution_count": null,
   "metadata": {},
   "outputs": [],
   "source": []
  },
  {
   "cell_type": "markdown",
   "metadata": {},
   "source": [
    "### 3.3. Dictionary Metodları"
   ]
  },
  {
   "cell_type": "code",
   "execution_count": 39,
   "metadata": {},
   "outputs": [],
   "source": [
    "baskent = {\"Türkiye\": \"Ankara\", \n",
    "         \"Fransa\": \"Paris\",\n",
    "         \"Almanya\":\"Berlin\",\n",
    "         \"İngiltere\": \"Londra\"\n",
    "        }"
   ]
  },
  {
   "cell_type": "markdown",
   "metadata": {},
   "source": [
    "#### 1) get() metodu"
   ]
  },
  {
   "cell_type": "code",
   "execution_count": 43,
   "metadata": {},
   "outputs": [
    {
     "data": {
      "text/plain": [
       "True"
      ]
     },
     "execution_count": 43,
     "metadata": {},
     "output_type": "execute_result"
    }
   ],
   "source": [
    "# İstediğimiz Key var mı yok mu kontrolü:\n",
    "\"Türkiye\" in baskent"
   ]
  },
  {
   "cell_type": "code",
   "execution_count": 27,
   "metadata": {},
   "outputs": [
    {
     "ename": "KeyError",
     "evalue": "'japonya'",
     "output_type": "error",
     "traceback": [
      "\u001b[1;31m---------------------------------------------------------------------------\u001b[0m",
      "\u001b[1;31mKeyError\u001b[0m                                  Traceback (most recent call last)",
      "\u001b[1;32m<ipython-input-27-f3904a0a1ee1>\u001b[0m in \u001b[0;36m<module>\u001b[1;34m\u001b[0m\n\u001b[0;32m      1\u001b[0m \u001b[1;31m# Olmayan bir key çağırırsak hata alırız:\u001b[0m\u001b[1;33m\u001b[0m\u001b[1;33m\u001b[0m\u001b[1;33m\u001b[0m\u001b[0m\n\u001b[1;32m----> 2\u001b[1;33m \u001b[0mbaskent\u001b[0m\u001b[1;33m[\u001b[0m\u001b[1;34m\"japonya\"\u001b[0m\u001b[1;33m]\u001b[0m\u001b[1;33m\u001b[0m\u001b[1;33m\u001b[0m\u001b[0m\n\u001b[0m",
      "\u001b[1;31mKeyError\u001b[0m: 'japonya'"
     ]
    }
   ],
   "source": [
    "# Olmayan bir key çağırırsak hata alırız:\n",
    "baskent[\"japonya\"]"
   ]
  },
  {
   "cell_type": "code",
   "execution_count": 28,
   "metadata": {},
   "outputs": [
    {
     "data": {
      "text/plain": [
       "False"
      ]
     },
     "execution_count": 28,
     "metadata": {},
     "output_type": "execute_result"
    }
   ],
   "source": [
    "# O yüzden önce var mı? diye sorup çağırabiliriz:\n",
    "\"japonya\" in baskent and baskent[\"japonya\"]   # japonya baskent sozlugunde mi? Cevap evetse çağır."
   ]
  },
  {
   "cell_type": "code",
   "execution_count": 29,
   "metadata": {},
   "outputs": [
    {
     "data": {
      "text/plain": [
       "'Ankara'"
      ]
     },
     "execution_count": 29,
     "metadata": {},
     "output_type": "execute_result"
    }
   ],
   "source": [
    "\"Türkiye\" in baskent and baskent[\"Türkiye\"]"
   ]
  },
  {
   "cell_type": "code",
   "execution_count": 31,
   "metadata": {},
   "outputs": [
    {
     "data": {
      "text/plain": [
       "{'Türkiye': 'Ankara',\n",
       " 'Fransa': 'Paris',\n",
       " 'Almanya': 'Berlin',\n",
       " 'İngiltere': 'Londra'}"
      ]
     },
     "execution_count": 31,
     "metadata": {},
     "output_type": "execute_result"
    }
   ],
   "source": [
    "# Daha pratik yolu: .get() fonksiyonu. Key yoksa hata vermiyor.\n",
    "baskent.get(\"Japonya\")\n",
    "baskent"
   ]
  },
  {
   "cell_type": "markdown",
   "metadata": {},
   "source": [
    "#### 2) items() metodu"
   ]
  },
  {
   "cell_type": "code",
   "execution_count": 47,
   "metadata": {},
   "outputs": [
    {
     "data": {
      "text/plain": [
       "dict_items([('Türkiye', 'Ankara'), ('Fransa', 'Paris'), ('Almanya', 'Berlin'), ('İngiltere', 'Londra')])"
      ]
     },
     "execution_count": 47,
     "metadata": {},
     "output_type": "execute_result"
    }
   ],
   "source": [
    "# Sözlükteki elemanları liste halinde verir:\n",
    "baskent.items()"
   ]
  },
  {
   "cell_type": "code",
   "execution_count": 44,
   "metadata": {},
   "outputs": [
    {
     "data": {
      "text/plain": [
       "[('Türkiye', 'Ankara'),\n",
       " ('Fransa', 'Paris'),\n",
       " ('Almanya', 'Berlin'),\n",
       " ('İngiltere', 'Londra')]"
      ]
     },
     "execution_count": 44,
     "metadata": {},
     "output_type": "execute_result"
    }
   ],
   "source": [
    "baskent_listesi = list(baskent.items())\n",
    "baskent_listesi"
   ]
  },
  {
   "cell_type": "markdown",
   "metadata": {},
   "source": [
    "#### 3) keys() ve values() metodları"
   ]
  },
  {
   "cell_type": "code",
   "execution_count": 36,
   "metadata": {},
   "outputs": [
    {
     "data": {
      "text/plain": [
       "dict_keys(['Türkiye', 'Fransa', 'Almanya', 'İngiltere'])"
      ]
     },
     "execution_count": 36,
     "metadata": {},
     "output_type": "execute_result"
    }
   ],
   "source": [
    "baskent.keys()"
   ]
  },
  {
   "cell_type": "code",
   "execution_count": 37,
   "metadata": {},
   "outputs": [
    {
     "data": {
      "text/plain": [
       "dict_values(['Ankara', 'Paris', 'Berlin', 'Londra'])"
      ]
     },
     "execution_count": 37,
     "metadata": {},
     "output_type": "execute_result"
    }
   ],
   "source": [
    "baskent.values()"
   ]
  },
  {
   "cell_type": "markdown",
   "metadata": {},
   "source": [
    "#### 4) pop() ve popitem() metodları"
   ]
  },
  {
   "cell_type": "code",
   "execution_count": 62,
   "metadata": {},
   "outputs": [
    {
     "data": {
      "text/plain": [
       "'Paris'"
      ]
     },
     "execution_count": 62,
     "metadata": {},
     "output_type": "execute_result"
    }
   ],
   "source": [
    "# Listelerdeki pop() metodunun aynısı:\n",
    "baskent = {\"Türkiye\": \"Ankara\", \n",
    "         \"Fransa\": \"Paris\",\n",
    "         \"Almanya\":\"Berlin\",\n",
    "         \"İngiltere\": \"Londra\"\n",
    "        }\n",
    "\n",
    "baskent.pop('Fransa')\n"
   ]
  },
  {
   "cell_type": "code",
   "execution_count": 63,
   "metadata": {},
   "outputs": [
    {
     "data": {
      "text/plain": [
       "{'Türkiye': 'Ankara', 'Almanya': 'Berlin', 'İngiltere': 'Londra'}"
      ]
     },
     "execution_count": 63,
     "metadata": {},
     "output_type": "execute_result"
    }
   ],
   "source": [
    "baskent"
   ]
  },
  {
   "cell_type": "code",
   "execution_count": 66,
   "metadata": {},
   "outputs": [
    {
     "data": {
      "text/plain": [
       "('Türkiye', 'Ankara')"
      ]
     },
     "execution_count": 66,
     "metadata": {},
     "output_type": "execute_result"
    }
   ],
   "source": [
    "# popitem() rastgele bir key-value çiftini atıyor\n",
    "baskent.popitem()"
   ]
  },
  {
   "cell_type": "code",
   "execution_count": 67,
   "metadata": {},
   "outputs": [
    {
     "data": {
      "text/plain": [
       "{}"
      ]
     },
     "execution_count": 67,
     "metadata": {},
     "output_type": "execute_result"
    }
   ],
   "source": [
    "baskent"
   ]
  },
  {
   "cell_type": "markdown",
   "metadata": {},
   "source": [
    "#### 5) update() metodu"
   ]
  },
  {
   "cell_type": "code",
   "execution_count": 69,
   "metadata": {},
   "outputs": [
    {
     "data": {
      "text/plain": [
       "{'Türkiye': 'İstanbul',\n",
       " 'Almanya': 'Frankfurt',\n",
       " 'Fransa': 'Nice',\n",
       " 'Japonya': 'Tokyo',\n",
       " 'İspanya': 'Madrid'}"
      ]
     },
     "execution_count": 69,
     "metadata": {},
     "output_type": "execute_result"
    }
   ],
   "source": [
    "sehirler = {\"Türkiye\": \"İstanbul\",\n",
    "           \"Almanya\":\"Münih\",\n",
    "           \"Fransa\": \"Nice\"}\n",
    "sehirler.update(Türkiye = \"Antalya\", Almanya = \"Frankfurt\")\n",
    "sehirler"
   ]
  },
  {
   "cell_type": "code",
   "execution_count": 45,
   "metadata": {},
   "outputs": [
    {
     "data": {
      "text/plain": [
       "{'Türkiye': 'İzmir',\n",
       " 'Almanya': 'Münih',\n",
       " 'Fransa': 'Nice',\n",
       " 'Japonya': 'Tokyo',\n",
       " 'İtalya': 'Roma'}"
      ]
     },
     "execution_count": 45,
     "metadata": {},
     "output_type": "execute_result"
    }
   ],
   "source": [
    "# iki sözlüğü birleştirmede de kullanılabilir:\n",
    "\n",
    "sehirler1 = {\"Türkiye\": \"İstanbul\",\n",
    "           \"Almanya\":\"Münih\",\n",
    "           \"Fransa\": \"Nice\"}\n",
    "\n",
    "sehirler2 = {\"Türkiye\":\"İzmir\",\n",
    "            \"Japonya\":\"Tokyo\",\n",
    "            \"İtalya\":\"Roma\"}\n",
    "\n",
    "sehirler1.update(sehirler2)\n",
    "sehirler1 # Türkiye ikisinde de vardı. ikinci sözlükteki value ile güncelledi."
   ]
  },
  {
   "cell_type": "code",
   "execution_count": null,
   "metadata": {},
   "outputs": [],
   "source": []
  },
  {
   "cell_type": "code",
   "execution_count": 72,
   "metadata": {},
   "outputs": [],
   "source": [
    "a = sehirler.get"
   ]
  },
  {
   "cell_type": "code",
   "execution_count": 73,
   "metadata": {},
   "outputs": [
    {
     "data": {
      "text/plain": [
       "'Bu key mevcut değildir'"
      ]
     },
     "execution_count": 73,
     "metadata": {},
     "output_type": "execute_result"
    }
   ],
   "source": [
    "a"
   ]
  },
  {
   "cell_type": "code",
   "execution_count": null,
   "metadata": {},
   "outputs": [],
   "source": []
  }
 ],
 "metadata": {
  "kernelspec": {
   "display_name": "Python 3",
   "language": "python",
   "name": "python3"
  },
  "language_info": {
   "codemirror_mode": {
    "name": "ipython",
    "version": 3
   },
   "file_extension": ".py",
   "mimetype": "text/x-python",
   "name": "python",
   "nbconvert_exporter": "python",
   "pygments_lexer": "ipython3",
   "version": "3.7.4"
  }
 },
 "nbformat": 4,
 "nbformat_minor": 2
}
