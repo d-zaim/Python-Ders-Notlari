{
 "cells": [
  {
   "cell_type": "markdown",
   "metadata": {},
   "source": [
    "# Döngüler"
   ]
  },
  {
   "cell_type": "markdown",
   "metadata": {},
   "source": [
    "Döngüyü kaç kere gerçekleştirmek istediğimizi biliyorsak: For loop\n",
    "Döngüyü belli bir şartı sağladığı sürece gerçekleştirmek istiyorsak: While loop"
   ]
  },
  {
   "cell_type": "markdown",
   "metadata": {},
   "source": [
    "## 1. For Loops"
   ]
  },
  {
   "cell_type": "markdown",
   "metadata": {},
   "source": [
    "for <değişken> in <iterable>:\n",
    "<br>\n",
    "&emsp;<yapmak istediğimiz işlemler>"
   ]
  },
  {
   "cell_type": "code",
   "execution_count": 48,
   "metadata": {
    "scrolled": true
   },
   "outputs": [
    {
     "data": {
      "text/plain": [
       "7"
      ]
     },
     "execution_count": 48,
     "metadata": {},
     "output_type": "execute_result"
    }
   ],
   "source": [
    "cümle = \"Lorem ipsum dolor sit amet, consectetur adipiscing elit. Donec varius pretium pretium. Donec iaculis, ante eget vestibulum fringilla, quam dui consectetur nibh, sit amet rutrum massa augue eu metus. Duis vitae varius nunc, ornare molestie quam. Nulla eu pretium est. Class aptent taciti sociosqu ad litora torquent per conubia nostra, per inceptos himenaeos. Vestibulum ante ipsum primis in faucibus orci luctus et ultrices posuere cubilia curae; Pellentesque luctus congue mauris, eu suscipit eros vehicula sit amet. Fusce sollicitudin, dui at blandit feugiat, ante ex gravida tellus, congue tempus dolor ipsum eget felis.\"\n",
    "\n",
    "harfler = {\"a\": 0, \"b\": 0}\n",
    "b = 0\n",
    "for harf in cümle:\n",
    "    if harf == \"a\":\n",
    "        a += 1\n",
    "    elif harf == \"b\":\n",
    "        b+=1 \n",
    "b"
   ]
  },
  {
   "cell_type": "code",
   "execution_count": 20,
   "metadata": {},
   "outputs": [
    {
     "name": "stdout",
     "output_type": "stream",
     "text": [
      "elma\n",
      "Bu meyve lezizdir: elma\n",
      "-----------\n",
      "portakal\n",
      "Bu meyve leziz değildir: portakal\n",
      "-----------\n",
      "şeftali\n",
      "Bu meyve leziz değildir: şeftali\n",
      "-----------\n",
      "erik\n",
      "Bu meyve lezizdir: erik\n",
      "-----------\n",
      "kiraz\n",
      "Bu meyve leziz değildir: kiraz\n",
      "-----------\n"
     ]
    }
   ],
   "source": [
    "meyveler = ['elma','portakal','şeftali','erik','kiraz']\n",
    "\n",
    "\n",
    "for meyve in meyveler:\n",
    "    print(meyve)\n",
    "    if meyve[0] == \"e\":\n",
    "        print(\"Bu meyve lezizdir:\", meyve)\n",
    "    else: \n",
    "        print(\"Bu meyve leziz değildir:\", meyve)\n",
    "    \n",
    "    print(\"-----------\")\n",
    "    "
   ]
  },
  {
   "cell_type": "code",
   "execution_count": 26,
   "metadata": {
    "scrolled": true
   },
   "outputs": [
    {
     "name": "stdout",
     "output_type": "stream",
     "text": [
      "0\n",
      "1\n",
      "2\n",
      "3\n",
      "4\n",
      "5\n",
      "6\n",
      "7\n",
      "8\n",
      "9\n"
     ]
    }
   ],
   "source": [
    "for i in range(0,10):\n",
    "    print(i)"
   ]
  },
  {
   "cell_type": "code",
   "execution_count": 27,
   "metadata": {},
   "outputs": [
    {
     "name": "stdout",
     "output_type": "stream",
     "text": [
      "0\n",
      "1\n",
      "2\n",
      "3\n",
      "4\n",
      "5\n",
      "6\n",
      "7\n",
      "8\n",
      "9\n"
     ]
    }
   ],
   "source": [
    "for i in range(10):\n",
    "    print(i)"
   ]
  },
  {
   "cell_type": "code",
   "execution_count": 54,
   "metadata": {
    "scrolled": true
   },
   "outputs": [
    {
     "name": "stdout",
     "output_type": "stream",
     "text": [
      "range(0, 100)\n"
     ]
    }
   ],
   "source": [
    "print(range(0,100))"
   ]
  },
  {
   "cell_type": "code",
   "execution_count": 56,
   "metadata": {
    "scrolled": true
   },
   "outputs": [
    {
     "data": {
      "text/plain": [
       "[0,\n",
       " 1,\n",
       " 2,\n",
       " 3,\n",
       " 4,\n",
       " 5,\n",
       " 6,\n",
       " 7,\n",
       " 8,\n",
       " 9,\n",
       " 10,\n",
       " 11,\n",
       " 12,\n",
       " 13,\n",
       " 14,\n",
       " 15,\n",
       " 16,\n",
       " 17,\n",
       " 18,\n",
       " 19,\n",
       " 20,\n",
       " 21,\n",
       " 22,\n",
       " 23,\n",
       " 24,\n",
       " 25,\n",
       " 26,\n",
       " 27,\n",
       " 28,\n",
       " 29,\n",
       " 30,\n",
       " 31,\n",
       " 32,\n",
       " 33,\n",
       " 34,\n",
       " 35,\n",
       " 36,\n",
       " 37,\n",
       " 38,\n",
       " 39,\n",
       " 40,\n",
       " 41,\n",
       " 42,\n",
       " 43,\n",
       " 44,\n",
       " 45,\n",
       " 46,\n",
       " 47,\n",
       " 48,\n",
       " 49,\n",
       " 50,\n",
       " 51,\n",
       " 52,\n",
       " 53,\n",
       " 54,\n",
       " 55,\n",
       " 56,\n",
       " 57,\n",
       " 58,\n",
       " 59,\n",
       " 60,\n",
       " 61,\n",
       " 62,\n",
       " 63,\n",
       " 64,\n",
       " 65,\n",
       " 66,\n",
       " 67,\n",
       " 68,\n",
       " 69,\n",
       " 70,\n",
       " 71,\n",
       " 72,\n",
       " 73,\n",
       " 74,\n",
       " 75,\n",
       " 76,\n",
       " 77,\n",
       " 78,\n",
       " 79,\n",
       " 80,\n",
       " 81,\n",
       " 82,\n",
       " 83,\n",
       " 84,\n",
       " 85,\n",
       " 86,\n",
       " 87,\n",
       " 88,\n",
       " 89,\n",
       " 90,\n",
       " 91,\n",
       " 92,\n",
       " 93,\n",
       " 94,\n",
       " 95,\n",
       " 96,\n",
       " 97,\n",
       " 98,\n",
       " 99]"
      ]
     },
     "execution_count": 56,
     "metadata": {},
     "output_type": "execute_result"
    }
   ],
   "source": [
    "liste = list(range(0,100))\n",
    "liste"
   ]
  },
  {
   "cell_type": "code",
   "execution_count": 49,
   "metadata": {},
   "outputs": [
    {
     "data": {
      "text/plain": [
       "5"
      ]
     },
     "execution_count": 49,
     "metadata": {},
     "output_type": "execute_result"
    }
   ],
   "source": [
    "len(meyveler) # length"
   ]
  },
  {
   "cell_type": "code",
   "execution_count": 51,
   "metadata": {},
   "outputs": [
    {
     "name": "stdout",
     "output_type": "stream",
     "text": [
      "1. meyve:  elma\n",
      "2. meyve:  portakal\n",
      "3. meyve:  şeftali\n",
      "4. meyve:  erik\n",
      "5. meyve:  kiraz\n"
     ]
    }
   ],
   "source": [
    "meyveler = ['elma','portakal','şeftali','erik','kiraz']\n",
    "\n",
    "\n",
    "\n",
    "for index in range(len(meyveler)):\n",
    "    meyve = meyveler[index]\n",
    "    index += 1 \n",
    "    print(f\"{index}. meyve: \", meyve)\n",
    "    \n"
   ]
  },
  {
   "cell_type": "code",
   "execution_count": 43,
   "metadata": {},
   "outputs": [
    {
     "name": "stdout",
     "output_type": "stream",
     "text": [
      "[93, 95, 96, 93, 96, 96, 100, 96, 100, 100]\n",
      "[87, 82, 89, 87, 85, 86, 85, 85, 84, 89, 89, 80]\n",
      "[70, 71, 78, 75, 72, 79, 70, 72]\n"
     ]
    }
   ],
   "source": [
    "from random import randint\n",
    "\n",
    "sayi = []\n",
    "\n",
    "for i in range(100):\n",
    "    sayi.append(randint(0, 100))\n",
    "\n",
    "    \n",
    "doksanlar = []\n",
    "seksenler = []\n",
    "yetmişler = []\n",
    "\n",
    "\n",
    "\n",
    "for eleman in sayi:\n",
    "    if eleman >= 90:\n",
    "        doksanlar.append(eleman)\n",
    "    elif eleman >= 80:\n",
    "        seksenler.append(eleman)\n",
    "    elif eleman >= 70:\n",
    "        yetmişler.append(eleman)\n",
    "\n",
    "print(doksanlar)\n",
    "print(seksenler)\n",
    "print(yetmişler)"
   ]
  },
  {
   "cell_type": "code",
   "execution_count": null,
   "metadata": {},
   "outputs": [],
   "source": []
  },
  {
   "cell_type": "markdown",
   "metadata": {},
   "source": [
    "## 2. While Loops"
   ]
  },
  {
   "cell_type": "markdown",
   "metadata": {},
   "source": [
    "while <gereken şart>:\n",
    "    <yapmak istediğimiz işlemler>"
   ]
  },
  {
   "cell_type": "code",
   "execution_count": 52,
   "metadata": {},
   "outputs": [
    {
     "name": "stdout",
     "output_type": "stream",
     "text": [
      "100\n",
      "90\n",
      "80\n",
      "70\n",
      "60\n",
      "50\n",
      "40\n",
      "30\n",
      "20\n",
      "10\n"
     ]
    }
   ],
   "source": [
    "cebimdeki_para = 100\n",
    "masraf = 10\n",
    "while cebimdeki_para > 0:\n",
    "    print(cebimdeki_para)\n",
    "    cebimdeki_para = cebimdeki_para - masraf"
   ]
  },
  {
   "cell_type": "markdown",
   "metadata": {},
   "source": [
    "### Break"
   ]
  },
  {
   "cell_type": "code",
   "execution_count": 6,
   "metadata": {},
   "outputs": [
    {
     "name": "stdout",
     "output_type": "stream",
     "text": [
      "Harcamadan önceki para: 100\n",
      "Harcamadan sonraki para: 90\n",
      "Harcamadan önceki para: 90\n",
      "Harcamadan sonraki para: 80\n",
      "Harcamadan önceki para: 80\n",
      "Harcamadan sonraki para: 70\n",
      "Harcamadan önceki para: 70\n",
      "Harcamadan sonraki para: 60\n",
      "Harcamadan önceki para: 60\n",
      "Harcamadan sonraki para: 50\n"
     ]
    }
   ],
   "source": [
    "# Paramı sonuna kadar harcamak istemiyorum. Döngüyü durdursun\n",
    "cebimdeki_para = 100\n",
    "masraf = 10\n",
    "while cebimdeki_para > 0:\n",
    "    print('Harcamadan önceki para:',cebimdeki_para)\n",
    "    cebimdeki_para = cebimdeki_para - masraf\n",
    "    print('Harcamadan sonraki para:',cebimdeki_para)\n",
    "    if cebimdeki_para == 50:\n",
    "        break"
   ]
  },
  {
   "cell_type": "markdown",
   "metadata": {},
   "source": [
    "### Continue"
   ]
  },
  {
   "cell_type": "code",
   "execution_count": 11,
   "metadata": {},
   "outputs": [
    {
     "name": "stdout",
     "output_type": "stream",
     "text": [
      "['elma', 'portakal', 'şeftali']\n",
      "['elma', 'portakal']\n",
      "['elma']\n",
      "[]\n"
     ]
    }
   ],
   "source": [
    "# meyveleri yazalım erik hariç:\n",
    "meyveler = ['elma','portakal','şeftali','erik','kiraz']\n",
    "\n",
    "while meyveler:   # boş listenin False olduğunu hatırlayalım. Dolayısıyla liste tükendiğinde döngü duracak\n",
    "    meyveler.pop()\n",
    "    if 'erik' in meyveler:\n",
    "        continue\n",
    "    print(meyveler)"
   ]
  },
  {
   "cell_type": "code",
   "execution_count": null,
   "metadata": {},
   "outputs": [],
   "source": [
    "# Tek satırda yazma\n",
    "a = 5\n",
    "while a > 0: a = a - 1; print(a)"
   ]
  },
  {
   "cell_type": "code",
   "execution_count": null,
   "metadata": {},
   "outputs": [],
   "source": []
  },
  {
   "cell_type": "markdown",
   "metadata": {},
   "source": [
    "# List Comprehension"
   ]
  },
  {
   "cell_type": "markdown",
   "metadata": {},
   "source": [
    "kareler listesi oluşturalım:"
   ]
  },
  {
   "cell_type": "code",
   "execution_count": 8,
   "metadata": {},
   "outputs": [
    {
     "name": "stdout",
     "output_type": "stream",
     "text": [
      "p\n",
      "o\n",
      "r\n",
      "t\n",
      "a\n",
      "k\n",
      "a\n",
      "l\n"
     ]
    }
   ],
   "source": [
    "# for döngüsü yazmak için iterable lazım. iterable'lar neler? üzerinde gezebildiklerimiz(dict..) veya indexing yapabildiklerimiz.\n",
    "\n",
    "meyveler = ['elma','portakal','şeftali','erik','kiraz']\n",
    "\n",
    "for i in range(len(meyveler)):\n",
    "    print(i)\n",
    "    \n",
    "    "
   ]
  },
  {
   "cell_type": "code",
   "execution_count": 1,
   "metadata": {},
   "outputs": [
    {
     "data": {
      "text/plain": [
       "[0, 1, 4, 9, 16, 25, 36, 49, 64, 81]"
      ]
     },
     "execution_count": 1,
     "metadata": {},
     "output_type": "execute_result"
    }
   ],
   "source": [
    "# Klasik yol\n",
    "kareler = []\n",
    "for sayi in range(10):\n",
    "    kareler.append(sayi**2)\n",
    "kareler"
   ]
  },
  {
   "cell_type": "code",
   "execution_count": 4,
   "metadata": {},
   "outputs": [
    {
     "data": {
      "text/plain": [
       "[0, 1, 4, 9, 16, 25, 36, 49, 64, 81]"
      ]
     },
     "execution_count": 4,
     "metadata": {},
     "output_type": "execute_result"
    }
   ],
   "source": [
    "# List Comprehension\n",
    "kareler = [x**2 for x in range(10)]\n",
    "kareler"
   ]
  },
  {
   "cell_type": "markdown",
   "metadata": {},
   "source": [
    "Belli şartları sağlayan kareleri içeren bir liste oluşturalım:"
   ]
  },
  {
   "cell_type": "code",
   "execution_count": 8,
   "metadata": {},
   "outputs": [
    {
     "data": {
      "text/plain": [
       "[1, 9, 25, 49, 81]"
      ]
     },
     "execution_count": 8,
     "metadata": {},
     "output_type": "execute_result"
    }
   ],
   "source": [
    "# Klasik yol\n",
    "tek_kareler = []\n",
    "for sayi in range(10):\n",
    "    if (sayi**2) %2 != 0:\n",
    "        tek_kareler.append(sayi**2)\n",
    "tek_kareler"
   ]
  },
  {
   "cell_type": "code",
   "execution_count": 11,
   "metadata": {},
   "outputs": [
    {
     "data": {
      "text/plain": [
       "[1, 9, 25, 49, 81]"
      ]
     },
     "execution_count": 11,
     "metadata": {},
     "output_type": "execute_result"
    }
   ],
   "source": [
    "# List Comprehension\n",
    "\n",
    "tek_kareler = [x**2 for x in range(10) if x**2 % 2 !=0]\n",
    "tek_kareler"
   ]
  },
  {
   "cell_type": "code",
   "execution_count": 12,
   "metadata": {},
   "outputs": [],
   "source": [
    "# uzun işlemler olacaksa ayırabiliriz de:\n",
    "tek_kareler = [x**2               # çıktı\n",
    "               for x in range(10) # for döngüsü\n",
    "               if x**2 % 2 != 0]  # şart"
   ]
  },
  {
   "cell_type": "markdown",
   "metadata": {},
   "source": [
    "# If Kullanımı"
   ]
  },
  {
   "cell_type": "code",
   "execution_count": 14,
   "metadata": {},
   "outputs": [
    {
     "name": "stdout",
     "output_type": "stream",
     "text": [
      "a ifadesi doğru\n"
     ]
    }
   ],
   "source": [
    "a = 10 > 2\n",
    "if a == True:\n",
    "    print(\"a ifadesi doğrudur.\")"
   ]
  },
  {
   "cell_type": "code",
   "execution_count": 15,
   "metadata": {},
   "outputs": [
    {
     "name": "stdout",
     "output_type": "stream",
     "text": [
      "a ifadesi doğrudur.\n"
     ]
    }
   ],
   "source": [
    "# aslında == True yazmamıza gerek yok:\n",
    "if a:\n",
    "    print(\"a ifadesi doğrudur.\")"
   ]
  },
  {
   "cell_type": "code",
   "execution_count": 16,
   "metadata": {},
   "outputs": [
    {
     "name": "stdout",
     "output_type": "stream",
     "text": [
      "x\n"
     ]
    }
   ],
   "source": [
    "b = 2 > 20\n",
    "if not b:\n",
    "    print(\"x\")"
   ]
  },
  {
   "cell_type": "code",
   "execution_count": 17,
   "metadata": {},
   "outputs": [
    {
     "name": "stdout",
     "output_type": "stream",
     "text": [
      "aradığınız kelime listenin içinde var\n"
     ]
    }
   ],
   "source": [
    "def arama_1(kelime):\n",
    "    liste = ['elma', 'portakal', 'kiraz']\n",
    "\n",
    "    if kelime == 'elma' or kelime == 'portakal' or kelime == 'kiraz':\n",
    "        print('aradığınız kelime listenin içinde var')\n",
    "\n",
    "arama_1('elma')"
   ]
  },
  {
   "cell_type": "code",
   "execution_count": 19,
   "metadata": {},
   "outputs": [
    {
     "name": "stdout",
     "output_type": "stream",
     "text": [
      "aradığınız kelime listenin içinde var\n"
     ]
    }
   ],
   "source": [
    "def arama_2 (kelime):\n",
    "    liste = ['elma', 'portakal', 'kiraz']\n",
    "    if kelime in liste:\n",
    "        print('aradığınız kelime listenin içinde var')\n",
    "\n",
    "arama_2('elma')"
   ]
  },
  {
   "cell_type": "code",
   "execution_count": null,
   "metadata": {},
   "outputs": [],
   "source": []
  }
 ],
 "metadata": {
  "kernelspec": {
   "display_name": "Python 3",
   "language": "python",
   "name": "python3"
  },
  "language_info": {
   "codemirror_mode": {
    "name": "ipython",
    "version": 3
   },
   "file_extension": ".py",
   "mimetype": "text/x-python",
   "name": "python",
   "nbconvert_exporter": "python",
   "pygments_lexer": "ipython3",
   "version": "3.7.4"
  }
 },
 "nbformat": 4,
 "nbformat_minor": 2
}
