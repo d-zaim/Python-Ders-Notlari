{
 "cells": [
  {
   "cell_type": "markdown",
   "metadata": {},
   "source": [
    "# Temel Veri Türleri\n",
    "## 1. Integers (Tam Sayılar)\n",
    "## 2. Floats (Ondalık Sayılar)\n",
    "## 3. Strings (Cümle, kelime gibi sözel veriler)\n",
    "## 4. Booleans (Doğruluk: Doğru(True) - Yanlış(False))"
   ]
  },
  {
   "cell_type": "markdown",
   "metadata": {},
   "source": [
    "### Bilgisayarda 2 tür veriyle işlem yapabiliriz.\n",
    "#### 1) Sayısal\n",
    "&emsp;   1.1. Sayı tam sayı ise: integer\n",
    "<br>\n",
    "&emsp;   1.2. Sayı küsüratlı ise: float\n",
    "#### 2) Sözel\n",
    "&emsp; 2.1. Harf, kelime, cümle her türlü sözel ifade: string\n",
    "<br>\n",
    "&emsp; 2.2. Mantık açısından değerlendirme (doğru/yanlış): boolean"
   ]
  },
  {
   "cell_type": "code",
   "execution_count": null,
   "metadata": {},
   "outputs": [],
   "source": [
    "# Satırın başına # konulursa, satır yorum satırı haline geliyor. Python burayı kod olarak okumuyor\n",
    "\n",
    "# 1 Python dili içerisinde hangi veri türü\n",
    "\n",
    "type(1)  "
   ]
  },
  {
   "cell_type": "code",
   "execution_count": null,
   "metadata": {},
   "outputs": [],
   "source": [
    "# 2.2 Python dili içerisinde hangi veri türü\n",
    "\n",
    "type(2.2) "
   ]
  },
  {
   "cell_type": "code",
   "execution_count": null,
   "metadata": {},
   "outputs": [],
   "source": [
    "# 'Merhaba' Python dili içerisinde hangi veri türü\n",
    "type('Merhaba') "
   ]
  },
  {
   "cell_type": "code",
   "execution_count": null,
   "metadata": {},
   "outputs": [],
   "source": [
    "# True Python dili içerisinde hangi veri türü\n",
    "type(True) "
   ]
  },
  {
   "cell_type": "code",
   "execution_count": null,
   "metadata": {},
   "outputs": [],
   "source": []
  },
  {
   "cell_type": "markdown",
   "metadata": {},
   "source": [
    "### 1. INTEGERS (Tam sayılar)"
   ]
  },
  {
   "cell_type": "code",
   "execution_count": null,
   "metadata": {
    "scrolled": true
   },
   "outputs": [],
   "source": [
    "# Temel aritmetik işlemler\n",
    "a = 10\n",
    "b = 3\n",
    "a + b"
   ]
  },
  {
   "cell_type": "code",
   "execution_count": null,
   "metadata": {},
   "outputs": [],
   "source": [
    "a - b"
   ]
  },
  {
   "cell_type": "code",
   "execution_count": null,
   "metadata": {},
   "outputs": [],
   "source": [
    "a/b # Bölme işlemi her zaman float(ondalık sayı) verir."
   ]
  },
  {
   "cell_type": "code",
   "execution_count": null,
   "metadata": {},
   "outputs": [],
   "source": [
    "a//b # Integer sonuç istediğimizde // operatörü kullanılır."
   ]
  },
  {
   "cell_type": "code",
   "execution_count": null,
   "metadata": {},
   "outputs": [],
   "source": [
    "a*b "
   ]
  },
  {
   "cell_type": "code",
   "execution_count": null,
   "metadata": {},
   "outputs": [],
   "source": [
    "a**b (10^3 = 10x10x10)"
   ]
  },
  {
   "cell_type": "code",
   "execution_count": null,
   "metadata": {},
   "outputs": [],
   "source": [
    "# binary'den integer'a \n",
    "c = 0b10101\n",
    "print(c)\n",
    "\n",
    "#integer'dan binary'e\n",
    "bin(12345)"
   ]
  },
  {
   "cell_type": "code",
   "execution_count": null,
   "metadata": {},
   "outputs": [],
   "source": [
    "# hexadecimal'dan integer'a, \n",
    "e = 0xac1\n",
    "print(e)\n",
    "\n",
    "# integer'dan hexadecimal'e\n",
    "hex(12345)"
   ]
  },
  {
   "cell_type": "code",
   "execution_count": null,
   "metadata": {},
   "outputs": [],
   "source": [
    "# string'den integer'a\n",
    "sayi = '123'\n",
    "sayi + 3"
   ]
  },
  {
   "cell_type": "code",
   "execution_count": null,
   "metadata": {},
   "outputs": [],
   "source": [
    "sayi"
   ]
  },
  {
   "cell_type": "code",
   "execution_count": null,
   "metadata": {},
   "outputs": [],
   "source": [
    "int(sayi)"
   ]
  },
  {
   "cell_type": "code",
   "execution_count": null,
   "metadata": {},
   "outputs": [],
   "source": [
    "sayi"
   ]
  },
  {
   "cell_type": "code",
   "execution_count": null,
   "metadata": {},
   "outputs": [],
   "source": [
    "sayi = int(sayi)\n",
    "sayi"
   ]
  },
  {
   "cell_type": "code",
   "execution_count": null,
   "metadata": {
    "scrolled": true
   },
   "outputs": [],
   "source": [
    "sayi = int(sayi) # tam sayıya dönüştürdük\n",
    "sayi + 5"
   ]
  },
  {
   "cell_type": "code",
   "execution_count": null,
   "metadata": {},
   "outputs": [],
   "source": []
  },
  {
   "cell_type": "markdown",
   "metadata": {},
   "source": [
    "### 2. FLOAT (Ondalıklı sayılar)"
   ]
  },
  {
   "cell_type": "code",
   "execution_count": null,
   "metadata": {
    "scrolled": true
   },
   "outputs": [],
   "source": [
    "float(3)"
   ]
  },
  {
   "cell_type": "code",
   "execution_count": null,
   "metadata": {},
   "outputs": [],
   "source": [
    "type(2.44)"
   ]
  },
  {
   "cell_type": "code",
   "execution_count": null,
   "metadata": {},
   "outputs": [],
   "source": [
    "4e3 # bilimsel gösterim"
   ]
  },
  {
   "cell_type": "code",
   "execution_count": null,
   "metadata": {},
   "outputs": [],
   "source": [
    "4e-3 # bilimsel gösterim"
   ]
  },
  {
   "cell_type": "code",
   "execution_count": null,
   "metadata": {},
   "outputs": [],
   "source": []
  },
  {
   "cell_type": "markdown",
   "metadata": {},
   "source": [
    "### 3. STRINGS (Metinler)"
   ]
  },
  {
   "cell_type": "markdown",
   "metadata": {},
   "source": [
    "#### 3.1. Strings Giriş"
   ]
  },
  {
   "cell_type": "code",
   "execution_count": null,
   "metadata": {},
   "outputs": [],
   "source": [
    "\"Merhaba\"   # \"\" veya '' kullanılabilir. Neden :)"
   ]
  },
  {
   "cell_type": "code",
   "execution_count": null,
   "metadata": {},
   "outputs": [],
   "source": [
    "'Merhaba'"
   ]
  },
  {
   "cell_type": "code",
   "execution_count": null,
   "metadata": {
    "scrolled": true
   },
   "outputs": [],
   "source": [
    "\"Arkadaşına camdan \"Parkta buluşalım\" dedi.\""
   ]
  },
  {
   "cell_type": "code",
   "execution_count": null,
   "metadata": {},
   "outputs": [],
   "source": [
    "print(\"Arkadaşına camdan 'Parkta buluşalım' dedi.\")"
   ]
  },
  {
   "cell_type": "code",
   "execution_count": null,
   "metadata": {},
   "outputs": [],
   "source": [
    "str(3.2) # String'e dönüştürme"
   ]
  },
  {
   "cell_type": "code",
   "execution_count": null,
   "metadata": {},
   "outputs": [],
   "source": []
  },
  {
   "cell_type": "markdown",
   "metadata": {},
   "source": [
    "#### 3.2. Escape Sequences ->     \\  \\n  \\t   \\\\\\"
   ]
  },
  {
   "cell_type": "code",
   "execution_count": 76,
   "metadata": {},
   "outputs": [
    {
     "ename": "SyntaxError",
     "evalue": "invalid syntax (<ipython-input-76-bd05bec6e47d>, line 3)",
     "output_type": "error",
     "traceback": [
      "\u001b[1;36m  File \u001b[1;32m\"<ipython-input-76-bd05bec6e47d>\"\u001b[1;36m, line \u001b[1;32m3\u001b[0m\n\u001b[1;33m    'He said \"I wasn't at school today\" to me'\u001b[0m\n\u001b[1;37m                     ^\u001b[0m\n\u001b[1;31mSyntaxError\u001b[0m\u001b[1;31m:\u001b[0m invalid syntax\n"
     ]
    }
   ],
   "source": [
    "# Metinde hem ' hem \" kullanılması gerekiyorsa:\n",
    "\n",
    "'He said \"I wasn't at school today\" to me'\n",
    "\n",
    "# SyntaxError: Python dilinde \"gramer hatası\" yaptığımızı söylüyor."
   ]
  },
  {
   "cell_type": "code",
   "execution_count": null,
   "metadata": {},
   "outputs": [],
   "source": [
    "cumle = 'He said \"I wasn\\'t at school today\" to me'\n",
    "cumle"
   ]
  },
  {
   "cell_type": "code",
   "execution_count": null,
   "metadata": {},
   "outputs": [],
   "source": [
    "print(cumle)"
   ]
  },
  {
   "cell_type": "code",
   "execution_count": null,
   "metadata": {},
   "outputs": [],
   "source": [
    "# Birkaç satırı tek seferde yazdırmak istersek?"
   ]
  },
  {
   "cell_type": "code",
   "execution_count": null,
   "metadata": {},
   "outputs": [],
   "source": [
    "print('Merhaba.\\nİsminiz nedir?')"
   ]
  },
  {
   "cell_type": "markdown",
   "metadata": {},
   "source": [
    "#### 3.3. Destanlar yazmak istiyorum, her satıra \\n mi gerek?"
   ]
  },
  {
   "cell_type": "code",
   "execution_count": null,
   "metadata": {
    "scrolled": true
   },
   "outputs": [],
   "source": [
    "# Üçlü tırnaklar! -> ''' ''' \n",
    "# Ne cümle içinde ' işaretini problem ediyor ne \"\" ile alıntı yapmayı.\n",
    "\n",
    "cumle2 = '''Python \"Harika\" bi' yazılım dili\n",
    "Meziyetlerini anlat \n",
    "anlat\n",
    "\n",
    "\n",
    "bitmez\n",
    "'''\n",
    "cumle2"
   ]
  },
  {
   "cell_type": "code",
   "execution_count": null,
   "metadata": {
    "scrolled": true
   },
   "outputs": [],
   "source": [
    "print(cumle2)"
   ]
  },
  {
   "cell_type": "markdown",
   "metadata": {},
   "source": [
    "#### 3.4. Cümlenin içine daha önce yazdığımız değişkenlerden cümleler, kelimeler, sayılar ekleme"
   ]
  },
  {
   "cell_type": "code",
   "execution_count": null,
   "metadata": {},
   "outputs": [],
   "source": [
    "isim = \"Ali\"\n",
    "yas = 35\n",
    "\n",
    "# Aşağıdakilerin hepsi aynı işleve sahip.\n",
    "\n",
    "print(\"Merhaba! \" + isim + \", yaşınız:\", yas)  # sayı eklenecekse \"+\" değil \",\" kullanılmalı\n",
    "\n",
    "print(f'Merhaba! {isim}, yaşınız: {yas}')\n",
    "\n",
    "print(\"Merhaba! {}, yaşınız: {}\".format(isim,yas))"
   ]
  },
  {
   "cell_type": "markdown",
   "metadata": {},
   "source": [
    "#### 3.5. Dışarıdan girdi alma"
   ]
  },
  {
   "cell_type": "code",
   "execution_count": null,
   "metadata": {},
   "outputs": [],
   "source": [
    "isim = input(\"İsminizi giriniz: \")\n",
    "yas = input(\"Yaşınızı giriniz: \")\n",
    "\n",
    "# if-else (eğer-aksi takdirde) ifadeleri\n",
    "if isim == 'Orhan':\n",
    "    \n",
    "    print(f'Hoşgeldiniz {isim} hocam.')\n",
    "    \n",
    "else: # aksi takdirde\n",
    "    print(f'Merhaba! {isim}, yaşınız: {yas}')\n",
    "\n"
   ]
  },
  {
   "cell_type": "code",
   "execution_count": null,
   "metadata": {},
   "outputs": [],
   "source": []
  },
  {
   "cell_type": "markdown",
   "metadata": {},
   "source": [
    "### 4. Booleans (Mantıksal Doğru/Yanlış)"
   ]
  },
  {
   "cell_type": "markdown",
   "metadata": {},
   "source": [
    "#### 4.1. Booleans Giriş"
   ]
  },
  {
   "cell_type": "code",
   "execution_count": null,
   "metadata": {},
   "outputs": [],
   "source": [
    "True\n",
    "False\n",
    "\n",
    "a = 5  # a 5 olsun\n",
    "a == 5 # a 5'e eşittir"
   ]
  },
  {
   "cell_type": "code",
   "execution_count": null,
   "metadata": {
    "scrolled": true
   },
   "outputs": [],
   "source": [
    "a == 4 # a 4'e eşittir."
   ]
  },
  {
   "cell_type": "code",
   "execution_count": null,
   "metadata": {
    "scrolled": true
   },
   "outputs": [],
   "source": [
    "a != 4 # a 4'e eşit değildir."
   ]
  },
  {
   "cell_type": "code",
   "execution_count": null,
   "metadata": {
    "scrolled": true
   },
   "outputs": [],
   "source": [
    "a < 10 "
   ]
  },
  {
   "cell_type": "code",
   "execution_count": null,
   "metadata": {
    "scrolled": true
   },
   "outputs": [],
   "source": [
    "a > 10"
   ]
  },
  {
   "cell_type": "code",
   "execution_count": null,
   "metadata": {},
   "outputs": [],
   "source": []
  },
  {
   "cell_type": "markdown",
   "metadata": {},
   "source": [
    "#### 4.2. Truthiness"
   ]
  },
  {
   "cell_type": "raw",
   "metadata": {},
   "source": [
    "Matematiksel ifadelerin True ve False karşılıklarını gördük.\n",
    "Bunlarla beraber başka Python araçlarında da doğruluk ve yanlışlık söz konusu.\n",
    "Örneğin boş bir string: '' veya boş bir liste [] False olarak kabul ediliyor.\n",
    "Sıfırdan başka tüm sayılar True\n",
    "Sıfır False"
   ]
  },
  {
   "cell_type": "code",
   "execution_count": null,
   "metadata": {
    "scrolled": true
   },
   "outputs": [],
   "source": [
    "bool(1)"
   ]
  },
  {
   "cell_type": "code",
   "execution_count": null,
   "metadata": {},
   "outputs": [],
   "source": [
    "bool(-1)  # TÜM sayılar True, yalnızca 0 False"
   ]
  },
  {
   "cell_type": "code",
   "execution_count": null,
   "metadata": {},
   "outputs": [],
   "source": [
    "# Boş string, list, dict... hepsi False\n",
    "bool('')\n",
    "bool([])"
   ]
  },
  {
   "cell_type": "code",
   "execution_count": null,
   "metadata": {},
   "outputs": [],
   "source": []
  },
  {
   "cell_type": "code",
   "execution_count": null,
   "metadata": {},
   "outputs": [],
   "source": []
  }
 ],
 "metadata": {
  "kernelspec": {
   "display_name": "Python 3",
   "language": "python",
   "name": "python3"
  },
  "language_info": {
   "codemirror_mode": {
    "name": "ipython",
    "version": 3
   },
   "file_extension": ".py",
   "mimetype": "text/x-python",
   "name": "python",
   "nbconvert_exporter": "python",
   "pygments_lexer": "ipython3",
   "version": "3.7.4"
  }
 },
 "nbformat": 4,
 "nbformat_minor": 2
}
